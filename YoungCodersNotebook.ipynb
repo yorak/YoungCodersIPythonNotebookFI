{
 "cells": [
  {
   "cell_type": "markdown",
   "metadata": {},
   "source": [
    "![Opi Python Logo](images/letslearnpython.png)\n",
    "\n",
    "# OPI PYTHONIN PERUSTEET\n",
    "\n",
    "Tämä interaktiivinen harjoituskokoelma opettaa sinulle Python-ohjelmointikielen alkeet. Opas seurailee PyCon 2014 -tapahtumassa Barbara Shauretten ja Katie Cunninghamin pitämän Python-koulutuksen rakennetta.\n",
    "\n",
    "> Jos haluat tämän suomenkielisen oppaan sijaan tutustua englanninkieliseen alkuperäismateriaaliin (kalvot, esimerkit ym.), ne ovat ladattavissa täältä:\n",
    "> https://github.com/mechanicalgirl/young-coders-tutorial"
   ]
  },
  {
   "cell_type": "markdown",
   "metadata": {},
   "source": [
    "![Mitä ohjelmointi on](images/whatprog.png)\n",
    "\n",
    "Mitä **ohjelmoinnilla** tarkoitetaan:\n",
    "* **Tietokone** on laite joka paitsi **säilöö**, myös **siirtää**, **järjestää**, **luo** ja **hallitsee** tietoa (eli _dataa_).\n",
    "* **Tietokoneohjelma** puolestaan on joukko yksikäsitteisiä **ohjeita**, jotka kertovat tietokoneelle mitä datalle pitäisi tehdä. **Ohjelmointikieli** on se erityinen kieli, millä nämä ohjeet kirjoitetaan.\n",
    "* Alla on joitain esimerkkejä ohjeista, jotka on tarkoitettu meille ihmisille (origamilinnun taitteluohje, pikkuleipäresepti ja kirjan sidontaohje):\n",
    "\n",
    "![Ohje-esimerkki](images/instructions.png)\n",
    "\n",
    "* Heti alkuun on hyvä sisäistää, että tietokone on kovin tyhmä. Se ymmärrä yllä olevan esimerkin kaltaisia oheita, vaikka ne ovat ihmiselle päivänselviä. Tietokoneelle ohjeet pitää kirjoittaa todella yksityiskohtaisesti, huolellisesti ja tarkasti, sillä se toimii **täsmälleen** kuten ohjeistettu. Tämä ohjeiden kirjoittaminen jollain ohjelmointikielellä on **ohjelmointia** - eli juuri sitä, mitä tämä opas opettaa.\n",
    "* **Algoritmilla** tarkoitetaan ohjeita jonkin tietyn asian tekemiseksi tietokoneella - usein tehokkaalla ja nopealla tavalla. Algoritmit ovat kuin reseptejä, eli askel-askeleelta eteneviä ohjeita, joiden lopputulos on haluttu (esim. kanelipulla tai aakkosjärjestykseen saatettu lista nimiä).\n",
    "\n"
   ]
  },
  {
   "cell_type": "markdown",
   "metadata": {},
   "source": [
    "![Puhu Pythonia](images/talkpy.png)\n",
    "\n",
    "Pian kokeilemme kirjoittaa ohjeita tietokoneelle, mutta ensin on hyvä tietää, että ohjelmointikieliä on olemassa valtavasti erilaisia - eri käyttötarkoituksiin. Tässä oppaassa opettelemme ohjelmointikieltä nimeltä **Python**, joka on aloittelijaystävällinen ja silti valtavan tehokas ja ilmaisuvoimainen kieli.\n",
    "\n",
    "Python voi näyttäytyä ohjelmoijalle monessa muodossa:\n",
    "1. Yksinkertaisin tapa käyttää Pythonia on Python-komentotulkki, jonne kirjoitetaan komentoja, jotka tulkki sitten välittämästi suorittaa. Komentotulkin kanssa vuoropuheluna voi tehdä laskutoimituksia, opiskella Pythonin käyttöä tai kokeilla erilaisten ideoiden toimivuutta. Joudut kuitenkin asentamaan Python-ympäristön omalle koneellesi.\n",
    "1. Komentotulkista on myös kehittyneempi ja käyttäjäystävällisempi versio nimeltä IPython. Se tarjoaa monenlaisia apuvälineitä Pythonin kirjoittamiseen: tiedostojen hallintaa, dokumentaatiota, erilaisia oikoteitä, komentohistorian ja paljon muuta. Mutta sekin vaatii asennuksen.\n",
    "1. IPython Notebookin, jota nyt parhaillaan käytät, lähestymistapa on erilainen: käytössäsi on nettiselaimessa (Chrome, Firefox ym.) toimiva vuorovaikutteinen muistikirjan sivu, jonne voi kirjoittaa paitsi tekstiä, myös Python-ohjelmointikielisiä käskyjä. Verkossa on paveluita kuten __[Binder](https://mybinder.org/)__, joiden avulla voit käyttää Notebook-sivuja pelkän verkkoselaimen avulla.\n",
    "1. Python-ohjelmointikielellä voidaan myös tehdä itsenäisesti toimivia ohjelmia. Tällöin kirjoitetaan `.py`-tiedosto, joka annetaan tietokoneen suoritettavaksi. `.py`-tiedostojen kirjoittamiseen on monenlaisia työkaluja aina muistiosta tehokkaisiin ohjelmistoalan ammattilaisten käyttämiin integroituihin kehitysympäristöihin (_eng. IDE_). Tällainen \"pitkästä tavarasta\" tehty ohjelma voidaan jopa paketoida suoritettavaksi `.exe`-tiedostoksi.\n",
    "\n",
    "![Erilaisia Python-ympäristöjä](images/pythonviews.png)\n"
   ]
  },
  {
   "cell_type": "markdown",
   "metadata": {},
   "source": [
    "# 1. Laskutoimituksia\n",
    "Aloitetaan Python-ohjelmointi yksinkertaisella matematiikalla. Pythonia voi nimittäin käyttää kätevänä laskimena.\n",
    "\n",
    "Naksauta hiirellä alla oleva harmaa laatikko aktiivisiksi ja paina näppäimistöltä `[⇧SHIFT]` + `[↵ENTER]`, jolloin Python suorittaa laskutoimituksen, kertoo tuloksen ja siirtyy seuraavaan laatikkoon."
   ]
  },
  {
   "cell_type": "code",
   "execution_count": null,
   "metadata": {},
   "outputs": [],
   "source": [
    "1+2"
   ]
  },
  {
   "cell_type": "markdown",
   "metadata": {},
   "source": [
    "Hyvä! Tee sama uudelleen alla olevalle laatikolle."
   ]
  },
  {
   "cell_type": "code",
   "execution_count": null,
   "metadata": {},
   "outputs": [],
   "source": [
    "12-3"
   ]
  },
  {
   "cell_type": "markdown",
   "metadata": {},
   "source": [
    "Kokeile nyt kirjoittaa itse alla olevaan harmaaseen laatikkoon seuraava laskutoimitus. \n",
    "Älä kuitenkaan kopioi `>>>`-merkkejä, sillä ne ovat vain ilmaisemassa, että kyseessä on Python-koodisyöte Python-tulkille.\n",
    "\n",
    "```python\n",
    ">>> 9+5-15```"
   ]
  },
  {
   "cell_type": "code",
   "execution_count": null,
   "metadata": {},
   "outputs": [],
   "source": [
    "9+2"
   ]
  },
  {
   "cell_type": "markdown",
   "metadata": {},
   "source": [
    "Paina sitten `[CTRL]` + `[↵ENTER]` ja Python laskee laskun, kertoo tuloksen **ja pitää kyseisen laatikon aktiivisena siltä varalta, että haluat muokata sen sisältöä.** Tämä siis erotuksena aiempaan `[⇧SHIFT]` + `[↵ENTER]` -komentoon, joka siirtyy heti eteenpäin. Toiminnolle löytyy myös `[▶⎸]`-nappi yläreunan työkalupalkista."
   ]
  },
  {
   "cell_type": "markdown",
   "metadata": {},
   "source": [
    "### Matemaattiset operaattorit\n",
    "Pythonin matemaattiset perusoperaattorit ovat:\n",
    "* yhteenlasku: `+`\n",
    "* vähennyslasku: `-`\n",
    "* kertolasku: `*`\n",
    "* jakolasku: `/`\n",
    "\n",
    "Kokeile vaikka näitä:\n",
    "```python\n",
    ">>> 6*5\n",
    ">>> 10*5*3\n",
    ">>> 6/2\n",
    ">>> 20/7\n",
    "```\n",
    "Tai voit kokeilla laskea ihan itse keksimilläsi luvuilla. Kokeile myös operaattoria `**`. Keksitkö mitä se tekee?"
   ]
  },
  {
   "cell_type": "code",
   "execution_count": null,
   "metadata": {},
   "outputs": [],
   "source": [
    "2**2"
   ]
  },
  {
   "cell_type": "code",
   "execution_count": null,
   "metadata": {},
   "outputs": [],
   "source": []
  },
  {
   "cell_type": "code",
   "execution_count": null,
   "metadata": {},
   "outputs": [],
   "source": []
  },
  {
   "cell_type": "code",
   "execution_count": null,
   "metadata": {},
   "outputs": [],
   "source": [
    "2/3"
   ]
  },
  {
   "cell_type": "markdown",
   "metadata": {},
   "source": [
    "> **Sivuhuomautus:** Saatat huomata tehdessäsi omia laskuja, että tulos ei ole aivan sitä mitä odotit. Tällöin järjestys, missä Python suorittaa laskuoperaatot saattaa olla eri mitä tarkoitit. Voit pakottaa Pythonin laskemaan haluamassasi järjestyksessä lisäämällä sulkuja. Esimerkiksi `3+4+5/3` ei tuota samaa vastausta kuin `(3+4+5)/3`."
   ]
  },
  {
   "cell_type": "code",
   "execution_count": null,
   "metadata": {},
   "outputs": [],
   "source": []
  },
  {
   "cell_type": "markdown",
   "metadata": {},
   "source": [
    "> **Toinen sivuhuomautus:** Desimaalilukujen kanssa pitää olla tarkkana, riippuen ohjelmointikielestä tai jopa sen versiosta, tulos voisi olla myös `0` (eikä `0.666...`). Näin esimerkiksi Python 2.7 versiolla, jota saattaa edelleen olla paikoitellen asennettuna ja käytössä. Toinen esimerkki desimaalilukujen vaaroista on tulos viattomalta näyttävään laskutoimitukseen `0.1+0.2`. Kokeile sitä alla. Yllättävä tulos johtuu siitä, että tietokone tallentaa ja laskee desimaalilukuja *liukulukuna*. Liukuluvut eivät pysty esittämään kaikkia desimaalilukuja kovinkaan tarkasti."
   ]
  },
  {
   "cell_type": "code",
   "execution_count": null,
   "metadata": {},
   "outputs": [],
   "source": [
    "0.1+0.2"
   ]
  },
  {
   "cell_type": "markdown",
   "metadata": {},
   "source": [
    "### Vertailuoperaattorit\n",
    "\n",
    "<table>\n",
    "<tr><td>\n",
    "==</td><td>tutkii ovatko luvut yhtäsuuret\n",
    "</td></tr>\n",
    "<tr><td>\n",
    "!=</td><td>tutkii ovatko luvut erisuuret\n",
    "</td></tr>\n",
    "<tr><td>\n",
    "<</td><td>tarkistaa onko vasemmalla puolella oleva luku pienempi kuin oikealla puolella oleva\n",
    "</td></tr>\n",
    "<tr><td>\n",
    "></td><td>tarkistaa onko vasemmalla puolella oleva luku suurempi kuin oikealla puolella oleva\n",
    "</td></tr>\n",
    "<tr><td>\n",
    "<=</td><td>tarkistaa onko vasemmalla puolella oleva luku pienempi *tai yhtäsuuri* kuin oikealla puolella oleva\n",
    "</td></tr>\n",
    "<tr><td>\n",
    ">=</td><td>tarkistaa onko vasemmalla puolella oleva luku suurempi *tai yhtäsuuri* kuin oikealla puolella oleva\n",
    "</td></tr>\n",
    "</table>\n",
    "\n",
    "Kokeile näitä alla. Esimerkiksi:\n",
    "```python\n",
    ">>> 5 < 4 + 3\n",
    ">>> 12 + 1 >= 12\n",
    ">>> 16 * 2 == 32\n",
    ">>> 16 != 16\n",
    ">>> 5 >= 6\n",
    "```\n"
   ]
  },
  {
   "cell_type": "code",
   "execution_count": null,
   "metadata": {},
   "outputs": [],
   "source": []
  },
  {
   "cell_type": "code",
   "execution_count": null,
   "metadata": {},
   "outputs": [],
   "source": []
  },
  {
   "cell_type": "code",
   "execution_count": null,
   "metadata": {},
   "outputs": [],
   "source": []
  },
  {
   "cell_type": "code",
   "execution_count": null,
   "metadata": {},
   "outputs": [],
   "source": []
  },
  {
   "cell_type": "code",
   "execution_count": null,
   "metadata": {},
   "outputs": [],
   "source": []
  },
  {
   "cell_type": "markdown",
   "metadata": {},
   "source": [
    "Vertailuoperaatot ovat tärkeitä ohjelmoinnissa, kuten pian tulemme näkemään. Niiden avulla voimme ohjelmoida tietokoneen tekemään eri asioita eri tilanteissa."
   ]
  },
  {
   "cell_type": "markdown",
   "metadata": {},
   "source": [
    "# 2. Merkkijonot\n",
    "Paitsi lukuja, käsittelevät tietokoneet myös paljon tekstimuotoista tietoa. Tekstimuotoinen tieto on tallennettu tietokoneelle jonona kirjoitusmerkkejä, eli tuttavallisemmin **merkkijonona**.\n",
    "\n",
    "Python tulkitsee merkkijonoksi tekstinpätkän, joka on lainausmerkkien välissä. Kokeile:\n",
    "```python\n",
    ">>> \"hello world\"\n",
    ">>> \"omppu\"\n",
    ">>> omppu\n",
    "```"
   ]
  },
  {
   "cell_type": "code",
   "execution_count": null,
   "metadata": {},
   "outputs": [],
   "source": [
    "\"hello world\""
   ]
  },
  {
   "cell_type": "code",
   "execution_count": null,
   "metadata": {},
   "outputs": [],
   "source": []
  },
  {
   "cell_type": "code",
   "execution_count": null,
   "metadata": {},
   "outputs": [],
   "source": [
    "omppu"
   ]
  },
  {
   "cell_type": "markdown",
   "metadata": {},
   "source": [
    "Viimeisen esimerkin, eli sen ompun, jota ei oltu ympyröity lainausmerkein, tuleekin antaa virhe. Virheisiin palaamme pian, mutta tässä esimerkin tarkoitus on iskostaa mieleesi seuraava sääntö: **jos haluat syöttää Pythonille merkkijonon, käytä lainausmerkkejä**"
   ]
  },
  {
   "cell_type": "markdown",
   "metadata": {},
   "source": [
    "### Operaatioita merkkijonoille\n",
    "Kuten luvuille, myös merkkijonoille voi tehdä erilaisia operaatioita:\n",
    "\n",
    "* yhdistäminen: `+`\n",
    "* toistaminen: `*`\n",
    "\n",
    "Katso ja kokeile mitä Python tekee kun annat sille seuraavat ohjeet:\n",
    "```python\n",
    ">>> \"Hei \" + \"muukalainen\"\n",
    ">>> \"HAHA\" * 100\n",
    "```"
   ]
  },
  {
   "cell_type": "code",
   "execution_count": null,
   "metadata": {},
   "outputs": [],
   "source": []
  },
  {
   "cell_type": "code",
   "execution_count": null,
   "metadata": {},
   "outputs": [],
   "source": []
  },
  {
   "cell_type": "markdown",
   "metadata": {},
   "source": [
    "# 3. Muuttujat\n",
    "Tutustuimme edellä siihen, miten lukuja ja merkkijonoja käsitellään Pythonilla. Seuraavaksi tutustumme ideaan, jota voi käyttää molempien kanssa - eli muuttujaan.\n",
    "\n",
    "Matematiikan tunnilta saatat muistaa ***x***:n. Sitä käytettiin merkitsemään jotain tuntematonta (tai tunnettua) lukua. Ohjelmointikielessä nämä **muuttujat** toimivat hieman samalla tavalla.\n",
    "\n",
    "Muuttujat ovat kuin laatikoita, joiden sisään voit pakata numeroita, merkkijonoja tai muita \"juttuja\".\n",
    "\n",
    "Laske alla olevassa harmaassa laatikossa lasku:\n",
    "```python\n",
    ">>> 12 * 12 \n",
    "```"
   ]
  },
  {
   "cell_type": "code",
   "execution_count": null,
   "metadata": {},
   "outputs": [],
   "source": []
  },
  {
   "cell_type": "markdown",
   "metadata": {},
   "source": [
    "Python kuitenkin unohtaa tuloksen heti. Entäs jos haluaisit, että vastaus pysyy muistissa? Voit laittaa tuloksen muistiin **sijoittamalla** sen nimettyyn muuttujaan:\n",
    "```python\n",
    ">>> tulos = 12 * 12\n",
    ">>> tulos\n",
    "```"
   ]
  },
  {
   "cell_type": "code",
   "execution_count": null,
   "metadata": {},
   "outputs": [],
   "source": []
  },
  {
   "cell_type": "code",
   "execution_count": null,
   "metadata": {},
   "outputs": [],
   "source": []
  },
  {
   "cell_type": "markdown",
   "metadata": {},
   "source": [
    "Muuttujat säästävät aikaa ja vaivaa, sillä voit nyt käyttää muuttujaa `tulos` uudelleen ja uudellen tulevissa laskutoimituksissa ja ohjeissa. \n",
    "\n",
    "> Huomaa, että `tulos` ei ole lainausmerkeissä. Näin siksi, että se ei ole merkkijono, vaan muuttuja. Yleensä kannattaa käyttää kuvaavia muuttujan nimiä. Näin ei tarvitse turhaan arvailla ja selvitellä, että mitä muuttujassa on sisällä - nimi kertoo sen jo."
   ]
  },
  {
   "cell_type": "markdown",
   "metadata": {},
   "source": [
    "Voit uudelleenkäyttää muuttujia. Sijoita vaan sinne uusi arvo. Esimerkiksi:"
   ]
  },
  {
   "cell_type": "code",
   "execution_count": null,
   "metadata": {},
   "outputs": [],
   "source": [
    "color = 'yellow'"
   ]
  },
  {
   "cell_type": "code",
   "execution_count": null,
   "metadata": {},
   "outputs": [],
   "source": [
    "color = 12"
   ]
  },
  {
   "cell_type": "markdown",
   "metadata": {},
   "source": [
    "Mitä luulet 'color' muuttujassa nyt olevan? Kokeillaan (suorita kaikki tämän esimerkin kolme laatikkoa ylhäältä alas):"
   ]
  },
  {
   "cell_type": "code",
   "execution_count": null,
   "metadata": {},
   "outputs": [],
   "source": [
    "color"
   ]
  },
  {
   "cell_type": "markdown",
   "metadata": {},
   "source": [
    "Muuttujat ovat ohjelmoinnissä hyvin tärkeitä. Siksi kertauksena:\n",
    "* Voit laittaa tulokset talteen muuttujaan ja käyttää näitä tuloksia myöhemmin\n",
    "* Voit vaihtaa muuttujan arvon vaikka sen nimi pysyy samana\n",
    "* Muuttujaan sijoitetaan '=' operaattorilla. Tämä erotuksena '==' operaattoriin, joka siis tutkii ovatko luvut **tai muuttujien sisältämät luvut** samat (esimerkki alla). Tässä sekoilu on hyvin yleinen virhe."
   ]
  },
  {
   "cell_type": "code",
   "execution_count": null,
   "metadata": {},
   "outputs": [],
   "source": [
    "x = 3\n",
    "y = 3\n",
    "x==y"
   ]
  },
  {
   "cell_type": "markdown",
   "metadata": {},
   "source": [
    "Tässä muuten joitain muita *juttuja*, mitä muuttujilla - ja erityisesti merkkijonomuuttujilla - voi tehdä. Samalla opimme, että ääkkösiä kannattaa välttää muuttujien nimissä (ne saattavat toimia, mutta ei välttämättä aina!)."
   ]
  },
  {
   "cell_type": "code",
   "execution_count": null,
   "metadata": {},
   "outputs": [],
   "source": [
    "hedelma = \"appelsiini\"\n",
    "hedelma[2]"
   ]
  },
  {
   "cell_type": "code",
   "execution_count": null,
   "metadata": {},
   "outputs": [],
   "source": [
    "indeksi = 4\n",
    "hedelma[indeksi-2]"
   ]
  },
  {
   "cell_type": "markdown",
   "metadata": {},
   "source": [
    "Alle voit kokeilla tätä merkkijonoihin *indeksointia* itse:"
   ]
  },
  {
   "cell_type": "code",
   "execution_count": null,
   "metadata": {},
   "outputs": [],
   "source": []
  },
  {
   "cell_type": "markdown",
   "metadata": {},
   "source": [
    "# 4. Virheet\n",
    "Eräs ohjelmoinnissa hyvin tärkeä taito on **virheiden** ja **virheilmoitusten** tulkinta. Paraskaan ohjelmoija ei osaa kirjoittaa virheetöntä ohjelmakoodia. Siksi onkin hyvä, että työkalu osaa tunnistaa ja kertoa meille suurimmassa osassa tapauksista milloin olemme tehneet jotain väärin - ja mikä vielä tärkeämpää, missä ja mikä virhe oikein oli. Suorita alla olevat koodit."
   ]
  },
  {
   "cell_type": "code",
   "execution_count": null,
   "metadata": {},
   "outputs": [],
   "source": [
    "\"kaveri\"*5"
   ]
  },
  {
   "cell_type": "code",
   "execution_count": null,
   "metadata": {},
   "outputs": [],
   "source": [
    "\"kaveri\"+5"
   ]
  },
  {
   "cell_type": "markdown",
   "metadata": {},
   "source": [
    "Mitä ylle ilmaantunut virhe mielestäsi tarkoittaa? Mitä `'str'` ja `'int'` tarkoittavat?\n",
    "\n",
    "Pureskellaan virheilmoitus auki:\n",
    "* Merkkijonot ('str' lyh. *string*)\n",
    "* Kokonais**luvut** ('int' lyh. *integer*)\n",
    "* Molemmat ovat jotain objekteja (objects *suom. **olioita***)\n",
    "* Mutta Python ei osaa yhdistää niitä, sillä ne ovat eri **tyyppisiä** (TypeError).\n",
    "\n",
    "Usein lukemalla virheilmoituksen huolellisesti voi päästä jyvälle siitä mikä menee vikaan. Esimerkkitapauksessamme virhe olisi korjattavissa niin, että annamme myös numeron lainausmerkkien välissä olevana merkkijonona, jolloin yhdistettävät ovat molemmat merkkijonoja. Kokeile:\n",
    "```python\n",
    ">>> \"kaveri\"+\"5\"\n",
    "```"
   ]
  },
  {
   "cell_type": "code",
   "execution_count": null,
   "metadata": {},
   "outputs": [],
   "source": []
  },
  {
   "cell_type": "markdown",
   "metadata": {},
   "source": [
    "![Python perustietotyypit](images/types.png)\n",
    "\n",
    "# Perustietotyypit\n",
    "Olemme jo tutustuneet kolmeen tietotyyppiin:\n",
    "* `\"Hei!\"`, joka on **merkkijono** (eng. *string*)\n",
    "* `27`, joka on **kokonaisluku** (eng. *integer*)\n",
    "* `3.14`, joka on desimaaliluku/**liukuluku** (eng. *float*)\n",
    "\n",
    "> **Sivuhuomautus:** Huomaa, että Pythonin desimaalierotin on piste eikä pilkku. Tämä on hyvin yleistä ohjelmointikielissä ja tietojenkäsittelyssä, mutta ensikertalaisen kannattaa kiinnittää asiaan huomiota.\n",
    "\n",
    "Python osaa kertoa meille tyypin Pythoniin sisäänrakennetulla `type(...)`-funktiolla. Funktioihin tutustumme lähemmin tuonnempana."
   ]
  },
  {
   "cell_type": "code",
   "execution_count": null,
   "metadata": {},
   "outputs": [],
   "source": [
    "tervehdys = \"Hei!\"\n",
    "type(tervehdys)"
   ]
  },
  {
   "cell_type": "markdown",
   "metadata": {},
   "source": [
    "Hae alla vastaavalla tavalla tyyppikuvaus kokonaisluvulle ja liukuluvulle:"
   ]
  },
  {
   "cell_type": "code",
   "execution_count": null,
   "metadata": {},
   "outputs": [],
   "source": [
    "type(12)"
   ]
  },
  {
   "cell_type": "code",
   "execution_count": null,
   "metadata": {},
   "outputs": [],
   "source": []
  },
  {
   "cell_type": "markdown",
   "metadata": {},
   "source": [
    "Voit muuttaa tietoa toiseen muotoon `int(...)`, `str(...)` ja `float(...)` -funktioilla. Esimerkiksi:"
   ]
  },
  {
   "cell_type": "code",
   "execution_count": null,
   "metadata": {},
   "outputs": [],
   "source": [
    "float(5)"
   ]
  },
  {
   "cell_type": "markdown",
   "metadata": {},
   "source": [
    "Kokeile muuttaa kokonaisluku merkkijonoksi:"
   ]
  },
  {
   "cell_type": "code",
   "execution_count": null,
   "metadata": {},
   "outputs": [],
   "source": []
  },
  {
   "cell_type": "markdown",
   "metadata": {},
   "source": [
    "Entäs muuttuuko numeron sisältävä merkkijono desimaaliluvuksi?:"
   ]
  },
  {
   "cell_type": "code",
   "execution_count": null,
   "metadata": {},
   "outputs": [],
   "source": []
  },
  {
   "cell_type": "markdown",
   "metadata": {},
   "source": [
    "# 5. Listat\n",
    "Lista voi pitää sisällään sarjan olioita. Esimerkiksi:"
   ]
  },
  {
   "cell_type": "code",
   "execution_count": null,
   "metadata": {},
   "outputs": [],
   "source": [
    "hedelmat = [\"omena\", \"banaani\", \"mandariini\"]"
   ]
  },
  {
   "cell_type": "code",
   "execution_count": null,
   "metadata": {},
   "outputs": [],
   "source": [
    "numerot = [3, 17, -4, 8.8, 1]"
   ]
  },
  {
   "cell_type": "markdown",
   "metadata": {},
   "source": [
    "Arvaa mitä `type(...)`-fuktio osaa kertoa:"
   ]
  },
  {
   "cell_type": "code",
   "execution_count": null,
   "metadata": {},
   "outputs": [],
   "source": [
    "type(hedelmat), type(numerot)"
   ]
  },
  {
   "cell_type": "markdown",
   "metadata": {},
   "source": [
    "Voit käyttää kokonaisluku**indeksiä** ja hakasulkuoperaattoria hakeaksesi jonkin listan **alkion**:"
   ]
  },
  {
   "cell_type": "code",
   "execution_count": null,
   "metadata": {},
   "outputs": [],
   "source": [
    "hedelmat[0]"
   ]
  },
  {
   "cell_type": "code",
   "execution_count": null,
   "metadata": {},
   "outputs": [],
   "source": [
    "numerot[1]"
   ]
  },
  {
   "cell_type": "markdown",
   "metadata": {},
   "source": [
    "> Huomaa edellisistä esimerkistä pari seikkaa. Ohjelmointikielissä on tyypillistä, että listan ensimmäinen alkio haetaan indeksillä `0` - se on siis tavallaan \"nollas\" alkio eikä \"ensimmäinen\". Näin myös Pythonissa.\n",
    "\n",
    "Mihin negatiivinen indeksi -1 osoittaa? Entä -2? Kokeile arvasitko oikein:"
   ]
  },
  {
   "cell_type": "code",
   "execution_count": null,
   "metadata": {},
   "outputs": [],
   "source": [
    "hedelmat[-1]"
   ]
  },
  {
   "cell_type": "markdown",
   "metadata": {},
   "source": [
    "### Tehtävä:\n",
    "Tee **lista** kolmesta lempiväristäsi:"
   ]
  },
  {
   "cell_type": "code",
   "execution_count": null,
   "metadata": {},
   "outputs": [],
   "source": []
  },
  {
   "cell_type": "markdown",
   "metadata": {},
   "source": [
    "Käytä **indeksiä** ja hakasulkuoperaattoria hakeaksesi yhden lempiväreistäsi:"
   ]
  },
  {
   "cell_type": "code",
   "execution_count": null,
   "metadata": {},
   "outputs": [],
   "source": []
  },
  {
   "cell_type": "markdown",
   "metadata": {},
   "source": [
    "**Extratehtävä:** mitä tapahtuu jos indeksoit kahdesti `hedelmat`-listaa tai lempivärilistaa? Miksi tulos on se mikä se on?\n"
   ]
  },
  {
   "cell_type": "code",
   "execution_count": null,
   "metadata": {},
   "outputs": [],
   "source": [
    "hedelmat[1][3]"
   ]
  },
  {
   "cell_type": "markdown",
   "metadata": {},
   "source": [
    "Vastaus:"
   ]
  },
  {
   "cell_type": "markdown",
   "metadata": {},
   "source": [
    "# 6. Totuusarvot (*eng. booleans*)\n",
    "Totuusarvo voi olla `True` tai `False`"
   ]
  },
  {
   "cell_type": "code",
   "execution_count": null,
   "metadata": {},
   "outputs": [],
   "source": [
    "1==1"
   ]
  },
  {
   "cell_type": "code",
   "execution_count": null,
   "metadata": {},
   "outputs": [],
   "source": [
    "15 < 5"
   ]
  },
  {
   "cell_type": "markdown",
   "metadata": {},
   "source": [
    "Kokeile mitä tapahtuu jos kirjoitat Pythonille pelkän `True` tai `False`. Entäs pystytkö sijoittamaan totuusarvon muuttujaan?"
   ]
  },
  {
   "cell_type": "code",
   "execution_count": null,
   "metadata": {},
   "outputs": [],
   "source": []
  },
  {
   "cell_type": "code",
   "execution_count": null,
   "metadata": {},
   "outputs": [],
   "source": []
  },
  {
   "cell_type": "markdown",
   "metadata": {},
   "source": [
    "Mikä on totuusarvon tyyppi? Tarkista se `type(...)`-funktiolla, kuten teimme kokonaisluvuille ja merkkijonoille:"
   ]
  },
  {
   "cell_type": "code",
   "execution_count": null,
   "metadata": {},
   "outputs": [],
   "source": []
  },
  {
   "cell_type": "markdown",
   "metadata": {},
   "source": [
    "> Huomaa, että `True` ja `False` on kirjoitettu suurella alkukirjaimella, ja että ne eivät ole ympäröity lainausmerkein, eli ne eivät ole merkkijonoja. `True` ja `False` ovatkin Pythonin **varattuja sanoja**, eli kieleen sisäänrakennettuja asioita."
   ]
  },
  {
   "cell_type": "markdown",
   "metadata": {},
   "source": [
    "### and / or / not\n",
    "Myös `and`, `or` ja `not` ovat Pythonissa varattuja sanoja. Niillä voi muuttaa totuusarvoja, sekä yhdistää niitä tuottavia vertailuoperaatioita toisiinsa.\n",
    "\n",
    "> Alla risuaidan `#` jälkeen kirjoitettua ei tulkita Python-kieleksi. Ne ovat koodin sekaan kirjoitettuja **kommentteja**, mikä onkin usein tarpeen, jotta koodin tarkoitusta ei tarvitse turhaan kummastella. Kommentit auttavat koodaajaa - ja mikä tärkeämpää - muita koodaajia ymmärtämään mitä koodi tekee.\n",
    "\n"
   ]
  },
  {
   "cell_type": "code",
   "execution_count": null,
   "metadata": {},
   "outputs": [],
   "source": [
    "1==1 and 2==2   # molemmat ovat tosia, lopputulos tosi"
   ]
  },
  {
   "cell_type": "code",
   "execution_count": null,
   "metadata": {},
   "outputs": [],
   "source": [
    "1==1 and 2!=2  # Vain toinen on tosi, lopputulos epätosi"
   ]
  },
  {
   "cell_type": "code",
   "execution_count": null,
   "metadata": {},
   "outputs": [],
   "source": [
    "1==2 and 2==3  # Kummatkaan eivät ole tosia, lopputulos epätosi"
   ]
  },
  {
   "cell_type": "code",
   "execution_count": null,
   "metadata": {},
   "outputs": [],
   "source": [
    "1==1 or 2==2   # molemmat ovat tosia, lopputulos tosi"
   ]
  },
  {
   "cell_type": "code",
   "execution_count": null,
   "metadata": {},
   "outputs": [],
   "source": [
    "1==1 or 2!=2  # Vain toinen on tosi, lopputulos silti tosi"
   ]
  },
  {
   "cell_type": "code",
   "execution_count": null,
   "metadata": {},
   "outputs": [],
   "source": [
    "1==2 or 2==3  # Kummatkaan eivät ole tosia, lopputulos epätosi"
   ]
  },
  {
   "cell_type": "code",
   "execution_count": null,
   "metadata": {},
   "outputs": [],
   "source": [
    "1==1 "
   ]
  },
  {
   "cell_type": "code",
   "execution_count": null,
   "metadata": {},
   "outputs": [],
   "source": [
    "not 1==1"
   ]
  },
  {
   "cell_type": "markdown",
   "metadata": {},
   "source": [
    "### Tehtävä:\n",
    "Kokeile sijoittaa muutama totuusarvo muuttujiin (esim. `a` ja `b`) ja kokeile itse `and`, `or` ja `not` operaattoreita."
   ]
  },
  {
   "cell_type": "code",
   "execution_count": null,
   "metadata": {},
   "outputs": [],
   "source": []
  },
  {
   "cell_type": "code",
   "execution_count": null,
   "metadata": {},
   "outputs": [],
   "source": []
  },
  {
   "cell_type": "code",
   "execution_count": null,
   "metadata": {},
   "outputs": [],
   "source": []
  },
  {
   "cell_type": "markdown",
   "metadata": {},
   "source": [
    "**XOR:** Osaatko tehdä vertailun, joka palauttaa `True` vain jos jompikumpi vertailtavasta on tosi (ns. exclusive-or, xor)? Vinkki: käytä muuttujia ja ryhmittele vertailuoperaattoreita suluilla. Esim:\n",
    "```python\n",
    ">>> not (True and (True or False))\n",
    "```"
   ]
  },
  {
   "cell_type": "code",
   "execution_count": null,
   "metadata": {},
   "outputs": [],
   "source": []
  },
  {
   "cell_type": "markdown",
   "metadata": {},
   "source": [
    "**Merkkijonojen vertailu:** Kokeile vielä verrata merkkijonoja keskenään. Kokeile onko suurilla ja pienillä kirjaimilla merkitystä. Yllätyitkö?"
   ]
  },
  {
   "cell_type": "code",
   "execution_count": null,
   "metadata": {},
   "outputs": [],
   "source": [
    "\"test\" == \"Test\""
   ]
  },
  {
   "cell_type": "markdown",
   "metadata": {},
   "source": [
    "# 7. Logiikka \n",
    "Tähän mennessä olemme käyttäneet Pythonia lähinnä moneen hienoon temppuun taipuvana laskukoneena. Jotta pystyisimme kirjoittamaan tietokoneelle pidempiä ohjeita, tulee meidän tutustua keinoihin joilla ohjeiden **logiikka** kuvataan Pythonin kaltaisissa ohjelmointikielissä. Tähän on käytettävissä kaksi perustekniikkaa: **ehdot** ja **simukat**."
   ]
  },
  {
   "cell_type": "markdown",
   "metadata": {},
   "source": [
    "## 7.1. Ehtolause\n",
    "![Haarautuva nuoli](images/arrowtree.png)\n",
    "\n",
    "`if` -lause, eli ehtolause, on tapa pistää tietokone päättämään mitä sen tulisi koodia tulkitessaan seuraavaksi tehdä. \n",
    "\n",
    "Alla on muutamia esimerkkejä, joita saattaisit käyttää tosielämän päätöksentekoon:\n",
    "\n",
    "\"**Jos** olet nälkäinen, mennään lounaalle.\"\n",
    "\n",
    "\"**Jos** roskis on täynnä, mene ja tyhjää se.\""
   ]
  },
  {
   "cell_type": "markdown",
   "metadata": {},
   "source": [
    "Alla esimerkki siitä, miten samankaltainen asia ilmaistaisiin Python-koodissa:\n",
    "\n",
    "```python\n",
    ">>> nimi = \"Jussi\"\n",
    ">>> if name == \"Jussi\":\n",
    ">>> ····print(\"Moi Jussi!\")\n",
    "```\n",
    "`Moi Jussi!`"
   ]
  },
  {
   "cell_type": "markdown",
   "metadata": {},
   "source": [
    "> **Huomattavaa:** Pythonissa ehtolauseen jälkeen tulee kaksoispiste, joka puolestaan kertoo että seuraavalta riviltä alkaa uusi **lohko**. Lohko on pätkä ohjelmakoodia, joka kuuluu yhteen, ja jonka tietokone suorittaa kokonaisuutena rivi kerrallaan (ylhäältä alas). Lohko on sisennetty **neljällä välilyönnillä** ja kaikki samaan tasoon sisennetyt peräkkäiset rivit kuuluvat samaan lohkoon (yllä olevassa esimerkissä pisteet tarkoittavat välilyöntejä, ja ovat siinä näkyvillä vain siksi, että välilyöntien käyttö tulisi selvemmäksi)."
   ]
  },
  {
   "cell_type": "markdown",
   "metadata": {},
   "source": [
    "Mutta entä jos henkilö ei olekaan Jussi? Pythonissa on varattu sana `else` näitä tilanteita varten:\n",
    "\n",
    "```python\n",
    ">>> if name==\"Jussi\":\n",
    ">>> ····print(\"Moi Jussi!\")\n",
    ">>> else:\n",
    ">>> ····print(\"Hujari!\")\n",
    "```\n",
    "\n",
    "Jos taas henkilöitä on enemmän, voidaan käyttää sanaa `elif` tämän toisen ehdon tarkastamiseen:\n",
    "\n",
    "```python\n",
    ">>> if name==\"Jussi\":\n",
    ">>> ····print(\"Moi Jussi!\")\n",
    ">>> elif name==\"Aki\":\n",
    ">>> ····print(\"Hei Aki!\")\n",
    ">>> else:\n",
    ">>> ····print(\"Kuka sinä olet?\")\n",
    "```\n",
    "\n",
    "> **Huomattavaa:**\n",
    "* `elif` -ehto tarkastetaan *vain jos mikään ennen sitä olevista ehdoista ei toteutunut*.\n",
    "* `else` -lohko suoritetaan *vain jos mikään aiempi ehto ei toteutunut*.\n",
    "\n",
    ">Toisinsanoen: `if`/`elif`/`else` rakenteesta suoritetaan aina vain yksi haara (lohko)."
   ]
  },
  {
   "cell_type": "markdown",
   "metadata": {},
   "source": [
    "### Tehtävä:\n",
    "Kirjoita koodinpätkä, joka tulostaa ruudulle \"Yeah!\" jos muuttuja nimeltä `color` on `\"yellow\"`:"
   ]
  },
  {
   "cell_type": "code",
   "execution_count": null,
   "metadata": {},
   "outputs": [],
   "source": []
  },
  {
   "cell_type": "markdown",
   "metadata": {},
   "source": [
    "Lisää ehtoon vielä `elif` ja `else` -haarat, joissa tutkit onko muuttujassa jokin toinen väri ja jos on, tulostat jotain muuta nokkelaa."
   ]
  },
  {
   "cell_type": "markdown",
   "metadata": {},
   "source": [
    "# 7.2. Silmukat\n",
    "\n",
    "![Silmukkanuoli](images/loop.png)\n",
    "\n",
    "Toinen perusrakenne ohjelmointikielissä on **silmukat**. Sitä käytetään kun halutaan, että tietokone toistaa jokin asia monta kertaa. Silmukoita on kahdenlaisia:\n",
    "* *Laskevat* silmukat, jotka toistetaan tietyn monta kertaa\n",
    "* *Ehdolliset* silmukat, joita toisteaan kunnes jokin ehto täyttyy"
   ]
  },
  {
   "cell_type": "markdown",
   "metadata": {},
   "source": [
    "### Laskeva silmukka\n",
    "Laskevat silmukat kirjoitetaan pythonissa käyttäen `for`-avainsanaa ja siksi niitä sanotaankin `for`-silmukoiksi. Silmukka vaatii myös nimetyn **laskumuuttujan** (esimerkissä `numero`), `in`-avainsanan ja esim. listan numeroita, jotka silmukan laskumuuttuja saa järjestyksessä yksi toisensa jälkeen. Huomaa myös kaksoispiste rivin lopussa ja uuden lohkon merkiksi tehty sisennys:"
   ]
  },
  {
   "cell_type": "code",
   "execution_count": null,
   "metadata": {},
   "outputs": [],
   "source": [
    "for numero in [1,2,3,4,5]:\n",
    "    print(\"Hei\", numero)"
   ]
  },
  {
   "cell_type": "markdown",
   "metadata": {},
   "source": [
    "### Tehtävä:\n",
    "Kirjoita koodinpätkä, joka laskee kertoman (merkitään matematiikassa huutomerkillä `!`), eli kertoo peräkkäiset numerot keskenään. Esim.\n",
    "\n",
    "5! = 5·4·3·2·1\n",
    "\n",
    "Käytä muuttujaa, johon säilöt tuloksen. Pitkien lukulistojen kirjoittaminen on työlästä, joten kannattaa käyttää Pythoniin sisäänrakennettua `range(a,b)`-funktiota, joka tekee sinulle lukulistan `a`:sta `b`:hen. Havainnollistava esimerkki alla:"
   ]
  },
  {
   "cell_type": "code",
   "execution_count": null,
   "metadata": {},
   "outputs": [],
   "source": [
    "list( range(1,5) ) # voit for-silmukassa jättää list(...)-osan pois."
   ]
  },
  {
   "cell_type": "markdown",
   "metadata": {},
   "source": [
    "### Ehdollinen silmukka\n",
    "Ehdollinen silmukka pyörii kunnes joku ehto täyttyy (tai jää täyttymättä). Pythonissa tämä on toteutettavissa `while(...):` rakenteella, missä sulkujen sisään tulee tutkittava ehto ja alle toistettava koodilohko."
   ]
  },
  {
   "cell_type": "markdown",
   "metadata": {},
   "source": [
    "### Tehtävä:\n",
    "Käy alla olevaa esimerkkiä rivi riviltä päässäsi läpi suorittaen sitä tietokoneen lailla askel kerrallaan. Huomioi missä vaihessa muuttujan arvoa kasvatetaan ja missä vaiheessa ehdon tarkastus tehdään. Montako kertaa tulostus tehdään? Kokeile ajaa koodi. Vastasitko oikein?"
   ]
  },
  {
   "cell_type": "code",
   "execution_count": null,
   "metadata": {},
   "outputs": [],
   "source": [
    "lkm = 1\n",
    "while (lkm<4):\n",
    "    print('toistojen lukumäärä on', lkm)\n",
    "    lkm = lkm+1"
   ]
  },
  {
   "cell_type": "markdown",
   "metadata": {},
   "source": [
    "> **Huomattavaa:** on tärkeää, että ehto jää täyttymättä edes joskus, sillä muuten kyseessä on päättymätön silmukka. Niillekin on paikkansa, mutta yleensä ohjelma menee ns. jumiin, jos se jää pyörimään tällaiseen."
   ]
  },
  {
   "cell_type": "markdown",
   "metadata": {},
   "source": [
    "# 9. Aliohjelmat\n",
    "\n",
    "![Aliohjelmanuoli](images/functionarrow.png)\n",
    "\n",
    "Ajattele keksirepsetiä:\n",
    "\n",
    "![Kuva keksireseptistä raaka-aineineen (7 kpl) ja vaiheistettuine ohjeineen (6 askelta)](images/resepti.png)\n",
    "\n",
    "Kumpi on helpompaa, noudattaa reseptiä, vai kysyä äidiltä, että \"leipoisitko keksejä\"? Ohjelmoinnissa tällainen pyyntö vertautuu aliohjelmakutsuun, sillä **aliohjelma** on joukko yhteen liittyviä ohjeita paketoituna nimetyksi kokonaisuudeksi.\n",
    "\n",
    "Tämä on kätevää, sillä vaikka reseptin seuraaminen meiltä onnistuisikin, on pyytäminen **huomattavasti helpompaa**. Ja asioiden tekeminen helpommin, tehokkaammin ja nopeammin on pitkälti se, mistä ohjelmoinnissa on kyse.\n",
    "\n",
    "## Aliohjelmien syntaksi (eli kirjoitustapa)\n",
    "Pythoniksi muutettuna tämä kaunis pyyntö saada tuoreita pikkuleipiä voitaisiin ilmaista vaikka näin:\n",
    "\n",
    "```python\n",
    "pikkuleivat = leivo_pikkuleipia(montako_tarvitaan)\n",
    "```\n",
    "\n",
    "Tässä `leivo_pikkuleipia` on **aliohjelman nimi** ja `montako_tarvitaan` on **parametri**, joka määrää sen kuinka suurelle joukolle (eli kuinka montakertaisen pikkuleipätaikinan) äiti leipoo.\n",
    "\n",
    "Pythonissa aliohjelmat **esitellään** `def`-avainsanaa käyttäen, jonka jälkeen annetaan sille nimi ja sulut. Esittelyrivi päättyy *kaksoispisteeseen*, ja seuraavalla rivillä on aliohjelman toteutuksen määrittelevä koodilohko, eli **aliohjelman runko**.\n",
    "\n",
    "Aliohjelmaa **kutsutaan** kirjoittamalla sen nimi ja sulut:\n"
   ]
  },
  {
   "cell_type": "code",
   "execution_count": null,
   "metadata": {},
   "outputs": [],
   "source": [
    "def moikkaa_mua(): # tämä on aliohjelman esittely\n",
    "    print(\"moi\")\n",
    "    \n",
    "moikkaa_mua() # tämä on aliohjelmakutsu"
   ]
  },
  {
   "cell_type": "markdown",
   "metadata": {},
   "source": [
    "> **Huomattavaa:** esittelyn ja kutsumisen eron ymmärtäminen on hyvin tärkeää. Siis kertauksena: **esittelyssä** kerrotaan yksityiskohtaisesti miten joku asia tehdään ja **kutsuttaessa** pyydetään tekemään kyseinen asia!"
   ]
  },
  {
   "cell_type": "markdown",
   "metadata": {},
   "source": [
    "Aliohjelmalle voidaan lisätä parametreja kirjoittamalla ne sulkujen väliin. Näitä **parametrimuuttujia** voidaan sitten käyttää aliohjelman lohkon koodissa kuten mitä tahansa muuttujaa. Huomaa, että jos aliohjelmalle on lisätty parametri, tällöin myös aliohjelman kutsussa pitää antaa kyiseiselle parametrimuuttujalle arvo. (suorita alla oleva koodi)"
   ]
  },
  {
   "cell_type": "code",
   "execution_count": null,
   "metadata": {},
   "outputs": [],
   "source": [
    "def moikkaa_kaveria(nimelta): #esittely\n",
    "    print(\"moi\", nimelta)\n",
    "    \n",
    "moikkaa_kaveria(\"Jussi\")"
   ]
  },
  {
   "cell_type": "markdown",
   "metadata": {},
   "source": [
    "### Tehtävä:\n",
    "Kutsu edellä esiteltyä `moikkaa_kaveria`-aliohjelmaa niin, että se moikkaa sinua. Esittele sitten alla uusi aliohjelma, joka ottaa kaksi parametria (parametrit erotetaan toisistaan pilkulla): tervehdyksen ja listan nimiä ja moikkaa kaikkia listassa olevia henkilöitä (kts. `for`-silmukan ja listan ohjeet yltä, jos et muista miten niitä käytettiin)."
   ]
  },
  {
   "cell_type": "code",
   "execution_count": null,
   "metadata": {},
   "outputs": [],
   "source": [
    "# TODO: Kirjoita aliohjelma alle\n"
   ]
  },
  {
   "cell_type": "markdown",
   "metadata": {},
   "source": [
    "Ja kutsu tekemääsi aliohjelmaa."
   ]
  },
  {
   "cell_type": "code",
   "execution_count": null,
   "metadata": {},
   "outputs": [],
   "source": [
    "kaverit = [\"Eric\", \"Brooke\", \"Ridge\"]\n",
    "\n",
    "# TODO: kirjoita aliohjelmakutsu tähän\n"
   ]
  },
  {
   "cell_type": "markdown",
   "metadata": {},
   "source": [
    "## Aliohjelmien paluuarvot\n",
    "\n",
    "Käytämme edelleen pikkuleipiä leipovaa äitiä apuna:\n",
    "\n",
    "```python\n",
    "pikkuleivat = leivo_pikkuleipia(montako_tarvitaan)\n",
    "```\n",
    "\n",
    "Rivin alkuun on nyt lisätty `pikkuleivat`-muuttuja ja yhtäsuuruusmerkki. Tähän muuttujaan puolestaan sijoitetaan **aliohjelman paluuarvo**, eli valmistuneet pikkuleivät.\n",
    "\n",
    "Tässä yhteydessä toinen hyödyllinen tapa ajatella aliohjelmia on *tehdasvertaus*:  Aliohjelma on kuin tehdas, minne menee raaka-aineita sisään (parametrit) ja ulos tulee valmis tuote (paluuarvo). Emme nimittäin ole kiinnostuneita siitä *miten* tehdas toimii, kunhan se vain tekee sen mitä lupaa.\n",
    "\n",
    "Aliohjelman esittelyn yhteydessä, sen koodilohkossa, käyttämällä `return`-avainsanaa, voidaan lopettaa aliohjelma samalla palauttaen jokin arvo. Esimerkiksi näin (suorita alla oleva koodi):"
   ]
  },
  {
   "cell_type": "code",
   "execution_count": null,
   "metadata": {},
   "outputs": [],
   "source": [
    "def tuplaa(numero): #esittely\n",
    "    return numero*2\n",
    "\n",
    "tuplaa (4) #kutsu"
   ]
  },
  {
   "cell_type": "markdown",
   "metadata": {},
   "source": [
    "### Tehtävä:\n",
    "Tuplaa 12 käyttäen `tuplaa`-aliohjelmaa.\n",
    "\n",
    "Tai, mitä tapahtuu jos tuplaat oman nimesi? Kokeile."
   ]
  },
  {
   "cell_type": "code",
   "execution_count": null,
   "metadata": {},
   "outputs": [],
   "source": []
  },
  {
   "cell_type": "code",
   "execution_count": null,
   "metadata": {},
   "outputs": [],
   "source": []
  },
  {
   "cell_type": "markdown",
   "metadata": {},
   "source": [
    "## Yhteenveto aliohjelmista\n",
    "Opimme paljon Pythonin aliohjelmista, mutta kerrataan vielä:\n",
    "\n",
    "* Aliohjelmat **esitellään** `def`-avainsanalla\n",
    "* Aliohjelmia **kutsutaan** kirjoittamalla sen nimi ja heti nimen perään **sulut**: `kutsun_nimi()`\n",
    "* Aliohjelmakutsun sulkujen väliin kirjoitetaan mahdolliset **parametrien** arvot pilkuilla eroteltuna\n",
    "* Jos aliohjelma palauttaa **paluuarvon**, sen voi ottaa talteen muuttujaan yhtäsuuruusmerkillä (sijoitus)\n",
    "* Aliohjelman **runkolohkossa** voi lopettaa aliohjelman suorituksen ja palauttaa **paluuarvon** `return`-avainsanalla."
   ]
  },
  {
   "cell_type": "markdown",
   "metadata": {},
   "source": [
    "# 10. Syöte\n",
    "Syöte on tietoa, jota syötämme ohjelmalle. Tämä tieto voidaan sitten vaikkapa välittää aliohjelmalle tai näyttää se ruuudulla.\n",
    "\n",
    "Pythonissa on sisäänrakennettu aliohjelma nimeltä `input()`, joka kysyy käyttäjältä jotain. Esimerkki alla (suorita se ja vastaa kysymyksiin):"
   ]
  },
  {
   "cell_type": "code",
   "execution_count": null,
   "metadata": {},
   "outputs": [],
   "source": [
    "def sano_kohteliaisuus():\n",
    "    print(\"Kirjoita nimesi:\")\n",
    "    nimi = input()\n",
    "    print(\"Kirjoita lempinumerosi:\")\n",
    "    vari = int(input())\n",
    "    print( \"Hei\",nimi+\",\", vari, \"on sitten hyvä numero.\")\n",
    "    \n",
    "sano_kohteliaisuus()"
   ]
  },
  {
   "cell_type": "markdown",
   "metadata": {},
   "source": [
    "## Tehtävä:\n",
    "Kirjoita koodi, joka kysyy kaksi numeroa ja laskee ne yhteen."
   ]
  },
  {
   "cell_type": "code",
   "execution_count": null,
   "metadata": {},
   "outputs": [],
   "source": []
  },
  {
   "cell_type": "markdown",
   "metadata": {},
   "source": [
    "# 11. Modulit\n",
    "\"*Pyörää ei kannata keksiä uudelleen*\" on sanonta, joka pätee erityisen hyvin koodauksessa. Suuri osa yksinkertaisista koodaustehtävistä on jo tehty, ja usein nopein tapa saada asioita aikaan on uudelleenkäyttää jonkun toisen kirjoittamaa ohjelmakoodia. \n",
    "\n",
    "Pythonin tarjoama ratkaisu tähän on modulit. Voit ajatella modulia vaikka kokoelmana yhteen littyviä aliohjelmia, jotka tekevän jonkin tehtävän tekemisestä helppoa. Ne ovat tavallaan ohjelmoinnin leegopalikoita. Pythonin mukana tulee koko joukko moduleita, tutustutaan alla niistä muutamaan:\n",
    "\n",
    "*Satunnaisen numeron arpominen väliltä 1-100:*\n",
    "```python\n",
    ">>> import random\n",
    ">>> print( random.randint(1,100) )\n",
    "```\n",
    "\n",
    "*Kellonajan tarkistaminen:*\n",
    "```python\n",
    ">>> from datetime import datetime\n",
    ">>> print( datetime.now() )\n",
    "```\n",
    "* `from X import Y` tarkoittaa tässä sitä, että haemme `datetime` modulista vain `datetime` nimisen \"palikan\".\n",
    "\n",
    "*Kalenterin tulostaminen:*\n",
    "```python\n",
    ">>> import calendar\n",
    ">>> calendar.prmonth(2015, 9)\n",
    "```\n",
    "\n",
    "> Huomattavaa: moduleiden sisällä asustavia aliohjelmia ja muita \"juttuja\" kutsutaan pistenotaatiolla, eli niin, että ensin tulee modulin nimi, sitten piste, sitten kutsuttavan aliohjelman (tai muun \"jutun\") nimi, ja aliohjelman ollessa kyseessä sulut ja niiden väissä parametrit.\n",
    "\n",
    "### Tehtävä:\n",
    "Kokeile itse käyttää esimerkkien moduleita kirjoittamalla niiden koodi alle (muistathan, että \"`>>>`\" EI ole osa kopioitavaa koodia):\n",
    "\n"
   ]
  },
  {
   "cell_type": "code",
   "execution_count": null,
   "metadata": {},
   "outputs": [],
   "source": []
  },
  {
   "cell_type": "code",
   "execution_count": null,
   "metadata": {},
   "outputs": [],
   "source": []
  },
  {
   "cell_type": "code",
   "execution_count": null,
   "metadata": {},
   "outputs": [],
   "source": []
  },
  {
   "cell_type": "markdown",
   "metadata": {},
   "source": [
    "Alla esitellään esimerkkien avulla vielä pari mielenkiintoista modulia. Sisäänrakennettuja moduleita voit selata [Pythonin dokumentaation modulilistasta](https://docs.python.org/3/py-modindex.html). Lisäksi netti on puolellaan kolmannen osapuolen moduleita, tarpeeseen jos toiseenkin."
   ]
  },
  {
   "cell_type": "code",
   "execution_count": null,
   "metadata": {},
   "outputs": [],
   "source": [
    "import os\n",
    "for tiedosto in os.listdir( os.getcwd() ):\n",
    "    print(tiedosto)"
   ]
  },
  {
   "cell_type": "code",
   "execution_count": null,
   "metadata": {},
   "outputs": [],
   "source": [
    "import urllib.request\n",
    "py_home = urllib.request.urlopen(\"http://www.python.org\")\n",
    "print(py_home.read()) #Tulostaa pythonin kotisivun HTML-muodossa."
   ]
  },
  {
   "cell_type": "markdown",
   "metadata": {},
   "source": [
    "## Tehtävä:\n",
    "Hyödynnä äsken ja aiemmin oppimaasi ja kirjoita alle peli, joka arpoo satunnaisen numeron (`random`), ja pyytää sinua arvaamaan sen (`print`, `input`) kunnes (`while`) osut oikeaan. Voit rullailla ylöspäin tätä Notebookia, jos et muista jotain yksityiskohtaa. Jos peli tuntuu liian vaikealta, voit laittaa ohjelman tulostamaan vinkkejä, kuten \"luku on pienempi\" tai \"polttaa\"."
   ]
  },
  {
   "cell_type": "code",
   "execution_count": null,
   "metadata": {},
   "outputs": [],
   "source": []
  },
  {
   "cell_type": "markdown",
   "metadata": {},
   "source": [
    "# 12. Kilpikonnagrafiikkaa\n",
    "\n",
    "Pythonissa on eräs mielenkiintoinen moduli nimeltä `turtle`, jolla leikimme seuraavaksi. Kyseessä on omassa ikkunassaan asuva kilpikonna, jota ohjaat kirjoittamalla koodia. Tuo kilpikonnat toteuttava moduli suorittamalla alla oleva solu, jossa on `import`-käsky."
   ]
  },
  {
   "cell_type": "code",
   "execution_count": null,
   "metadata": {},
   "outputs": [],
   "source": [
    "import turtle"
   ]
  },
  {
   "cell_type": "markdown",
   "metadata": {},
   "source": [
    "Nyt, pistetäänhän se liikkeelle! "
   ]
  },
  {
   "cell_type": "code",
   "execution_count": null,
   "metadata": {},
   "outputs": [],
   "source": [
    "turtle.reset()\n",
    "\n",
    "#Kirjoita kilpikonnan ohjauskoodi tähän\n",
    "turtle.forward(100)\n",
    "\n",
    "# Tämä pitää olla, jotta voit sulkea ikkunan ruksista\n",
    "turtle.Screen().mainloop()"
   ]
  },
  {
   "cell_type": "markdown",
   "metadata": {},
   "source": [
    "Jos saat virheilmoituksen tai kilpikonnakolmiota ei näy, jokin meni pieleen. Valitettavasti Pythonin sisäänrakennettu kilpikonna ei toimi verkossa olevassa Jupyter-muistilehtiössä (esim. Binder), vaan tähän tehtävään tarvitset paikallisen Python-asennuksen. Harmi, mutta tässäpä syy asentaa Python omalle koneellesi!"
   ]
  },
  {
   "cell_type": "markdown",
   "metadata": {},
   "source": [
    "Kun ajat kodin kilpikonna vain kököttää paikallaan. Pistetään siihen vähän liikettä. **ENSIN KUITENKIN SULJE AUENNUT KILPIKONNAIKKUNA RUKSISTA. JOS ET TEE TÄTÄ, ET NÄE MUUTTUNEEN KOODIN VAIKUTUKSIA.**\n",
    "\n",
    "Alla joitain \"temppuja\", mitä kilpikonna osaa:\n",
    "```python\n",
    "turtle.forward(10) # kilppari kulkee eteenpäin annetun määrän askelia\n",
    "turtle.right(45) # kilppari kääntyy annetun määrän asteita oikealle\n",
    "turtle.left(90) # kilppari kääntyy annetun määrän asteita oikealle\n",
    "```\n",
    "\n",
    "## Tehtävä:\n",
    "Käytä näitä kolmea käskyä ja silmukoita tuottaaksesi erilaisia toinen toistaan villimpiä kuvioita. Voit kirjoittaa koodin yllä olevaan runkoon. Huom: Komennot ovat myös lyhennettävissä `fd`, `rt`, `lt` jne.\n",
    "\n",
    "Jos jäit koukkuun, [Pythonin turtle-modulin dokumentaatiosta](https://docs.python.org/3/library/turtle.html) voit lukea mitä kaikkia temppuja Python-kilppari osaa. Voit mm. vaihtaa ikkunan taustaväriä, kilpikonnan muotoa, viivan paksuutta ja väriä jne.\n"
   ]
  },
  {
   "cell_type": "code",
   "execution_count": null,
   "metadata": {},
   "outputs": [],
   "source": [
    "t = turtle\n",
    "t.speed(5)\n",
    "colours=[\"red\",\"blue\",\"yellow\",\"brown\",\"black\",\"purple\",\"green\"]\n",
    "\n",
    "t.penup(); t.left(90); t.forward(200);t.right(90);t.pendown()\n",
    "for i in range (0,18):\n",
    "    t.pencolor(colours[i%7])\n",
    "    t.right(20)\n",
    "    t.forward(50)\n",
    "\n",
    "t.right(180)\n",
    "t.home()\n",
    "\n",
    "# Tämä pitää olla, jotta voit sulkea ikkunan ruksista\n",
    "turtle.Screen().mainloop()"
   ]
  },
  {
   "cell_type": "markdown",
   "metadata": {},
   "source": [
    "## Lisätehtävä: \n",
    "Dokumentaatiota lukemalla paljastuu, että kilpikonnaikkunan kautta voi lukea hiiren ja näppäimistön painalluksia. Tämä mahdollistaa jo vaikka mitä! Kokeile mitä alla oleva koodi tekee ja jatkokehitä koodia vaikka peliksi asti!"
   ]
  },
  {
   "cell_type": "code",
   "execution_count": null,
   "metadata": {},
   "outputs": [],
   "source": [
    "def painettu_ylos():\n",
    "    turtle.setheading(90)\n",
    "    turtle.forward(20)\n",
    "    \n",
    "def painettu_alas():\n",
    "    turtle.setheading(-90)\n",
    "    turtle.forward(20)\n",
    "    \n",
    "def painettu_vasemmalle():\n",
    "    turtle.setheading(180)\n",
    "    turtle.forward(20)\n",
    "    \n",
    "def painettu_oikealle():\n",
    "    turtle.setheading(0)\n",
    "    turtle.forward(20)\n",
    "    \n",
    "# Kiinnitetään näppäimenpainallukset edellä oleviin aliohjelmiin\n",
    "#  kun näppäintä painetaa, aliohjelmaa kutsutaan.\n",
    "screen = turtle.Screen()\n",
    "screen.onkey(painettu_ylos, \"w\")\n",
    "screen.onkey(painettu_vasemmalle, \"a\")\n",
    "screen.onkey(painettu_alas, \"s\")\n",
    "screen.onkey(painettu_oikealle, \"d\")\n",
    "screen.listen()\n",
    "screen.mainloop()"
   ]
  },
  {
   "cell_type": "markdown",
   "metadata": {},
   "source": [
    "![Onnittelut](images/congratulations.png)\n",
    "\n",
    "Onneksi olkoon, olet nyt oppinut pythonin perusteet ja sitä mukaa kun otat edellä oppimaasi haltuun, voit rakentaa aina vain isompia ja hienompia juttuja. Ai mitä vai? Alla joitain esimerkkejä. Huomaa kuitenkin, että vain osa näistä toimii Jupyter-ympäristössä, joka on tarkoitettu paremminkin tieteelliseen käyttöön ja automaattiseen tietojenkäsittelyyn. Suositeltavaa onkin sovellusten tai kuvan ja äänen kanssa työskennellessä käyttää kehitysympäristöä kuten [Visual Studio Code](https://code.visualstudio.com/docs/languages/python). Sen ja modulien avulla:\n",
    "\n",
    "* Voit kirjoittaa pelejä (googleta `\"pygame-zero\"`)\n",
    "* Toistaa ja tehdä musiikkia ja videoita (googleta `\"pymedia\"`)\n",
    "* Rakentaa verkkosivuja ja -sovelluksia (googleta `\"python flask\"`)\n",
    "* Rakentaa mobiilisovelluksia ja -pelejä (googleta `\"kivy\"`)\n",
    "* Tehdä matematiikan, fysiikan ja muiden aineiden kotitehtäviä (googleta `\"scientific python\"` tai `\"<opetettavan aiheen englanninkielinen avainsana tähän> python\"`)\n",
    "\n",
    "Tämä on mahdollista, koska lähes kaikkeen löytyy Python -moduli:\n",
    "![XKCD Python](http://imgs.xkcd.com/comics/python.png \"Lähde: xkcd.com\")\n"
   ]
  },
  {
   "cell_type": "code",
   "execution_count": null,
   "metadata": {},
   "outputs": [],
   "source": []
  }
 ],
 "metadata": {
  "kernelspec": {
   "display_name": "Python 3",
   "language": "python",
   "name": "python3"
  },
  "language_info": {
   "codemirror_mode": {
    "name": "ipython",
    "version": 3
   },
   "file_extension": ".py",
   "mimetype": "text/x-python",
   "name": "python",
   "nbconvert_exporter": "python",
   "pygments_lexer": "ipython3",
   "version": "3.8.10"
  }
 },
 "nbformat": 4,
 "nbformat_minor": 1
}
